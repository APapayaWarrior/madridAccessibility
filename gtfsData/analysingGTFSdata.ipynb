{
 "cells": [
  {
   "cell_type": "code",
   "execution_count": 16,
   "id": "904fb3da",
   "metadata": {},
   "outputs": [],
   "source": [
    "from gtfslite import GTFS\n",
    "import pandas as pd\n",
    "from os import listdir"
   ]
  },
  {
   "cell_type": "markdown",
   "id": "3979fbb2",
   "metadata": {},
   "source": [
    "# conclusion\n",
    "\n",
    "The files for: \n",
    "- Buses EMT\n",
    "- Metro\n",
    "- Metro Ligero\n",
    "\n",
    "are workable and correct.  \n",
    "The files for:\n",
    "- Buses Interurbanos\n",
    "- Buses Urbanos\n",
    "\n",
    "are split into multiple zip files. These two contain identical data and both contain both interurbanos and urbanos (not EMT)\n",
    "\n",
    "The file for:\n",
    "- Cercanias  \n",
    "is incomplete **fixed by getting info from renfe**"
   ]
  },
  {
   "cell_type": "markdown",
   "id": "6cf33f14",
   "metadata": {},
   "source": [
    "# Verifying each component\n",
    "\n",
    "For the project we need GTFS data for all of the parts of Madrid transit. i.e.:\n",
    "\n",
    "- buses EMT\n",
    "- buses Urbanos no-EMT\n",
    "- buses Interurbanos\n",
    "- Metro\n",
    "- Metro Ligero\n",
    "- Cercanias"
   ]
  },
  {
   "cell_type": "markdown",
   "id": "af33d0a1",
   "metadata": {},
   "source": [
    "## Buses EMT"
   ]
  },
  {
   "cell_type": "code",
   "execution_count": null,
   "id": "17089ebc",
   "metadata": {},
   "outputs": [
    {
     "data": {
      "text/plain": [
       "agencies            [Empresa Municipal de Transportes]\n",
       "total_stops                                       4883\n",
       "total_routes                                       238\n",
       "total_trips                                      76150\n",
       "total_stops_made                               1930926\n",
       "first_date                                    20250726\n",
       "last_date                                     20251231\n",
       "total_shapes                                    111133\n",
       "dtype: object"
      ]
     },
     "execution_count": 5,
     "metadata": {},
     "output_type": "execute_result"
    }
   ],
   "source": [
    "busesEMT = GTFS.load_zip('./busesEMT_9may2025') \n",
    "\n",
    "busesEMT.summary()"
   ]
  },
  {
   "cell_type": "markdown",
   "id": "864363c2",
   "metadata": {},
   "source": [
    "## Buses Urbanos and Interurbanos\n",
    "\n",
    "The zip files downloaded from CRTM for each of these are identical and contain many zip files inside that are each a separate GTFS file for distinct urbano nonEMT and interurbano bus routes"
   ]
  },
  {
   "cell_type": "code",
   "execution_count": 18,
   "id": "11d17b67",
   "metadata": {},
   "outputs": [
    {
     "data": {
      "text/plain": [
       "[<gtfslite.gtfs.GTFS at 0x7fca1cd43680>,\n",
       " <gtfslite.gtfs.GTFS at 0x7fc9fb80fcb0>,\n",
       " <gtfslite.gtfs.GTFS at 0x7fc9fb8f9490>,\n",
       " <gtfslite.gtfs.GTFS at 0x7fc9fb18cce0>,\n",
       " <gtfslite.gtfs.GTFS at 0x7fc9fab9b5f0>,\n",
       " <gtfslite.gtfs.GTFS at 0x7fca008e77d0>,\n",
       " <gtfslite.gtfs.GTFS at 0x7fc9fa76f770>,\n",
       " <gtfslite.gtfs.GTFS at 0x7fc9fa5f8680>,\n",
       " <gtfslite.gtfs.GTFS at 0x7fc9f20d77d0>,\n",
       " <gtfslite.gtfs.GTFS at 0x7fc9f14f5a30>,\n",
       " <gtfslite.gtfs.GTFS at 0x7fc9f129e810>,\n",
       " <gtfslite.gtfs.GTFS at 0x7fc9f0c2ffb0>,\n",
       " <gtfslite.gtfs.GTFS at 0x7fc9f0c48b90>,\n",
       " <gtfslite.gtfs.GTFS at 0x7fc9f0b97b60>,\n",
       " <gtfslite.gtfs.GTFS at 0x7fc9f060d0d0>,\n",
       " <gtfslite.gtfs.GTFS at 0x7fc9eefe39e0>,\n",
       " <gtfslite.gtfs.GTFS at 0x7fc9ee5e4800>,\n",
       " <gtfslite.gtfs.GTFS at 0x7fc9ee21bf50>,\n",
       " <gtfslite.gtfs.GTFS at 0x7fc9edf9fda0>,\n",
       " <gtfslite.gtfs.GTFS at 0x7fc9ede2cef0>,\n",
       " <gtfslite.gtfs.GTFS at 0x7fc9ed2fbf50>,\n",
       " <gtfslite.gtfs.GTFS at 0x7fc9ecb5be30>,\n",
       " <gtfslite.gtfs.GTFS at 0x7fc9edf9d6d0>]"
      ]
     },
     "execution_count": 18,
     "metadata": {},
     "output_type": "execute_result"
    }
   ],
   "source": [
    "busesInterurbanosYUrbanos = [GTFS.load_zip('./busesInterurbanos_Urbanos_all_16july2025/' + i ) for i in listdir('./busesInterurbanos_Urbanos_all_16july2025/')]\n",
    "busesInterurbanosYUrbanos"
   ]
  },
  {
   "cell_type": "markdown",
   "id": "1ea8a92a",
   "metadata": {},
   "source": [
    "## Cercanias"
   ]
  },
  {
   "cell_type": "code",
   "execution_count": null,
   "id": "b0ec17ae",
   "metadata": {},
   "outputs": [
    {
     "data": {
      "text/plain": [
       "agencies            [Renfe Cercanias]\n",
       "total_stops                      1147\n",
       "total_routes                      477\n",
       "total_trips                    122303\n",
       "total_stops_made              1730491\n",
       "first_date                   20250722\n",
       "last_date                    20250821\n",
       "dtype: object"
      ]
     },
     "metadata": {},
     "output_type": "display_data"
    }
   ],
   "source": [
    "cercanias = GTFS.load_zip('./cercanias_23july2025_fromRenfe')\n",
    "cercanias.summary()"
   ]
  },
  {
   "cell_type": "markdown",
   "id": "11fc1430",
   "metadata": {},
   "source": [
    "need to make the change indicated below to the gtfs.py file in gtfs-lite to read the cercanias from renfe file, otherwise it raises an exception when loading the calendar file due to trying to use `.str` on a non-string object "
   ]
  },
  {
   "cell_type": "code",
   "execution_count": null,
   "id": "dfa21018",
   "metadata": {},
   "outputs": [
    {
     "data": {
      "text/html": [
       "<div>\n",
       "<style scoped>\n",
       "    .dataframe tbody tr th:only-of-type {\n",
       "        vertical-align: middle;\n",
       "    }\n",
       "\n",
       "    .dataframe tbody tr th {\n",
       "        vertical-align: top;\n",
       "    }\n",
       "\n",
       "    .dataframe thead th {\n",
       "        text-align: right;\n",
       "    }\n",
       "</style>\n",
       "<table border=\"1\" class=\"dataframe\">\n",
       "  <thead>\n",
       "    <tr style=\"text-align: right;\">\n",
       "      <th></th>\n",
       "      <th>service_id</th>\n",
       "      <th>monday</th>\n",
       "      <th>tuesday</th>\n",
       "      <th>wednesday</th>\n",
       "      <th>thursday</th>\n",
       "      <th>friday</th>\n",
       "      <th>saturday</th>\n",
       "      <th>sunday</th>\n",
       "      <th>start_date</th>\n",
       "      <th>end_date</th>\n",
       "    </tr>\n",
       "  </thead>\n",
       "  <tbody>\n",
       "    <tr>\n",
       "      <th>0</th>\n",
       "      <td>PR32M</td>\n",
       "      <td>0</td>\n",
       "      <td>1</td>\n",
       "      <td>0</td>\n",
       "      <td>0</td>\n",
       "      <td>0</td>\n",
       "      <td>0</td>\n",
       "      <td>0</td>\n",
       "      <td>20250722</td>\n",
       "      <td>20250722</td>\n",
       "    </tr>\n",
       "    <tr>\n",
       "      <th>1</th>\n",
       "      <td>PR33X</td>\n",
       "      <td>0</td>\n",
       "      <td>0</td>\n",
       "      <td>1</td>\n",
       "      <td>0</td>\n",
       "      <td>0</td>\n",
       "      <td>0</td>\n",
       "      <td>0</td>\n",
       "      <td>20250723</td>\n",
       "      <td>20250723</td>\n",
       "    </tr>\n",
       "    <tr>\n",
       "      <th>2</th>\n",
       "      <td>PR34J</td>\n",
       "      <td>0</td>\n",
       "      <td>0</td>\n",
       "      <td>0</td>\n",
       "      <td>1</td>\n",
       "      <td>0</td>\n",
       "      <td>0</td>\n",
       "      <td>0</td>\n",
       "      <td>20250724</td>\n",
       "      <td>20250724</td>\n",
       "    </tr>\n",
       "    <tr>\n",
       "      <th>3</th>\n",
       "      <td>PR35V</td>\n",
       "      <td>0</td>\n",
       "      <td>0</td>\n",
       "      <td>0</td>\n",
       "      <td>0</td>\n",
       "      <td>1</td>\n",
       "      <td>0</td>\n",
       "      <td>0</td>\n",
       "      <td>20250725</td>\n",
       "      <td>20250725</td>\n",
       "    </tr>\n",
       "    <tr>\n",
       "      <th>4</th>\n",
       "      <td>PR36S</td>\n",
       "      <td>0</td>\n",
       "      <td>0</td>\n",
       "      <td>0</td>\n",
       "      <td>0</td>\n",
       "      <td>0</td>\n",
       "      <td>1</td>\n",
       "      <td>0</td>\n",
       "      <td>20250726</td>\n",
       "      <td>20250726</td>\n",
       "    </tr>\n",
       "    <tr>\n",
       "      <th>...</th>\n",
       "      <td>...</td>\n",
       "      <td>...</td>\n",
       "      <td>...</td>\n",
       "      <td>...</td>\n",
       "      <td>...</td>\n",
       "      <td>...</td>\n",
       "      <td>...</td>\n",
       "      <td>...</td>\n",
       "      <td>...</td>\n",
       "      <td>...</td>\n",
       "    </tr>\n",
       "    <tr>\n",
       "      <th>398</th>\n",
       "      <td>7058D</td>\n",
       "      <td>0</td>\n",
       "      <td>0</td>\n",
       "      <td>0</td>\n",
       "      <td>0</td>\n",
       "      <td>0</td>\n",
       "      <td>0</td>\n",
       "      <td>1</td>\n",
       "      <td>20250817</td>\n",
       "      <td>20250817</td>\n",
       "    </tr>\n",
       "    <tr>\n",
       "      <th>399</th>\n",
       "      <td>7059L</td>\n",
       "      <td>1</td>\n",
       "      <td>0</td>\n",
       "      <td>0</td>\n",
       "      <td>0</td>\n",
       "      <td>0</td>\n",
       "      <td>0</td>\n",
       "      <td>0</td>\n",
       "      <td>20250818</td>\n",
       "      <td>20250818</td>\n",
       "    </tr>\n",
       "    <tr>\n",
       "      <th>400</th>\n",
       "      <td>7060M</td>\n",
       "      <td>0</td>\n",
       "      <td>1</td>\n",
       "      <td>0</td>\n",
       "      <td>0</td>\n",
       "      <td>0</td>\n",
       "      <td>0</td>\n",
       "      <td>0</td>\n",
       "      <td>20250819</td>\n",
       "      <td>20250819</td>\n",
       "    </tr>\n",
       "    <tr>\n",
       "      <th>401</th>\n",
       "      <td>7061X</td>\n",
       "      <td>0</td>\n",
       "      <td>0</td>\n",
       "      <td>1</td>\n",
       "      <td>0</td>\n",
       "      <td>0</td>\n",
       "      <td>0</td>\n",
       "      <td>0</td>\n",
       "      <td>20250820</td>\n",
       "      <td>20250820</td>\n",
       "    </tr>\n",
       "    <tr>\n",
       "      <th>402</th>\n",
       "      <td>7062J</td>\n",
       "      <td>0</td>\n",
       "      <td>0</td>\n",
       "      <td>0</td>\n",
       "      <td>1</td>\n",
       "      <td>0</td>\n",
       "      <td>0</td>\n",
       "      <td>0</td>\n",
       "      <td>20250821</td>\n",
       "      <td>20250821</td>\n",
       "    </tr>\n",
       "  </tbody>\n",
       "</table>\n",
       "<p>403 rows × 10 columns</p>\n",
       "</div>"
      ],
      "text/plain": [
       "    service_id  monday  tuesday  wednesday  thursday  friday  saturday  \\\n",
       "0        PR32M       0        1          0         0       0         0   \n",
       "1        PR33X       0        0          1         0       0         0   \n",
       "2        PR34J       0        0          0         1       0         0   \n",
       "3        PR35V       0        0          0         0       1         0   \n",
       "4        PR36S       0        0          0         0       0         1   \n",
       "..         ...     ...      ...        ...       ...     ...       ...   \n",
       "398      7058D       0        0          0         0       0         0   \n",
       "399      7059L       1        0          0         0       0         0   \n",
       "400      7060M       0        1          0         0       0         0   \n",
       "401      7061X       0        0          1         0       0         0   \n",
       "402      7062J       0        0          0         1       0         0   \n",
       "\n",
       "     sunday start_date  end_date  \n",
       "0         0   20250722  20250722  \n",
       "1         0   20250723  20250723  \n",
       "2         0   20250724  20250724  \n",
       "3         0   20250725  20250725  \n",
       "4         0   20250726  20250726  \n",
       "..      ...        ...       ...  \n",
       "398       1   20250817  20250817  \n",
       "399       0   20250818  20250818  \n",
       "400       0   20250819  20250819  \n",
       "401       0   20250820  20250820  \n",
       "402       0   20250821  20250821  \n",
       "\n",
       "[403 rows x 10 columns]"
      ]
     },
     "metadata": {},
     "output_type": "display_data"
    }
   ],
   "source": [
    "def _load_clean_feed(filepath, optional=False, dtype=None, **pandas_kwargs):\n",
    "    \"\"\"Load a feed cleanly by stripping column names.\n",
    "\n",
    "    Loads a feed. If the feed is empty (produces an empty dataframe) and the\n",
    "    item is optional, a None is returned, otherwise an error is raised.\n",
    "\n",
    "    Keyword arguments can be passd also to make parsing easier.\n",
    "\n",
    "    Parameters\n",
    "    ----------\n",
    "    filepath : str\n",
    "        path to the file\n",
    "\n",
    "    Returns\n",
    "    -------\n",
    "    pd.DataFrame or None\n",
    "        A dataframe that is loaded.\n",
    "    \"\"\"\n",
    "    try:\n",
    "        df = pd.read_csv(filepath, dtype=dtype, **pandas_kwargs)\n",
    "        df.columns = df.columns.str.strip()\n",
    "        if df.empty:\n",
    "            if optional:\n",
    "                return None\n",
    "            else:\n",
    "                raise pd.errors.EmptyDataError(\"This file is empty\")\n",
    "        # Strip all column whitespace on load\n",
    "        if dtype is not None:\n",
    "            for c in df.columns:\n",
    "                try:\n",
    "                    if dtype[c] is str:\n",
    "                        df[c] = df[c].astype(str).str.strip() # THIS CHANGE RIGHT HERE !!!!!!\n",
    "                except KeyError:\n",
    "                    pass\n",
    "        return df\n",
    "    except pd.errors.EmptyDataError:\n",
    "        if optional:\n",
    "            return None\n",
    "        else:\n",
    "            raise\n",
    "\n",
    "_load_clean_feed('./cercanias_unzipped/calendar.txt',\n",
    "                 dtype={\n",
    "                        \"service_id\": str,\n",
    "                        \"monday\": int,\n",
    "                        \"tuesday\": int,\n",
    "                        \"wednesday\": int,\n",
    "                        \"thursday\": int,\n",
    "                        \"friday\": int,\n",
    "                        \"saturday\": int,\n",
    "                        \"sunday\": int,\n",
    "                        \"start_date\": str,\n",
    "                        \"end_date\": str,\n",
    "                    })"
   ]
  },
  {
   "cell_type": "markdown",
   "id": "62e4dfca",
   "metadata": {},
   "source": [
    "## Metro"
   ]
  },
  {
   "cell_type": "code",
   "execution_count": 7,
   "id": "06ec7c50",
   "metadata": {},
   "outputs": [
    {
     "data": {
      "text/plain": [
       "agencies            [Consorcio Regional de Transportes de Madrid]\n",
       "total_stops                                                  1050\n",
       "total_routes                                                   13\n",
       "total_trips                                                   120\n",
       "total_stops_made                                             2216\n",
       "first_date                                               20250101\n",
       "last_date                                                20260527\n",
       "total_shapes                                                57474\n",
       "dtype: object"
      ]
     },
     "execution_count": 7,
     "metadata": {},
     "output_type": "execute_result"
    }
   ],
   "source": [
    "metro = GTFS.load_zip('./metro_30may2025')\n",
    "metro.summary()"
   ]
  },
  {
   "cell_type": "markdown",
   "id": "96464ec3",
   "metadata": {},
   "source": [
    "## Metro ligero"
   ]
  },
  {
   "cell_type": "code",
   "execution_count": 8,
   "id": "c2734b5c",
   "metadata": {},
   "outputs": [
    {
     "data": {
      "text/plain": [
       "agencies            [Consorcio Regional de Transportes de Madrid]\n",
       "total_stops                                                    73\n",
       "total_routes                                                    4\n",
       "total_trips                                                  3001\n",
       "total_stops_made                                            38983\n",
       "first_date                                               20250101\n",
       "last_date                                                20260220\n",
       "total_shapes                                                 4342\n",
       "dtype: object"
      ]
     },
     "execution_count": 8,
     "metadata": {},
     "output_type": "execute_result"
    }
   ],
   "source": [
    "metroLigero = GTFS.load_zip('./metroLigero_26feb2025')\n",
    "metroLigero.summary()"
   ]
  }
 ],
 "metadata": {
  "kernelspec": {
   "display_name": "tfm",
   "language": "python",
   "name": "python3"
  },
  "language_info": {
   "codemirror_mode": {
    "name": "ipython",
    "version": 3
   },
   "file_extension": ".py",
   "mimetype": "text/x-python",
   "name": "python",
   "nbconvert_exporter": "python",
   "pygments_lexer": "ipython3",
   "version": "3.12.11"
  }
 },
 "nbformat": 4,
 "nbformat_minor": 5
}
